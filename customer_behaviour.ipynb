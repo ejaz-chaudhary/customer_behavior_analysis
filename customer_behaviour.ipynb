{
 "cells": [
  {
   "cell_type": "code",
   "id": "93c7478374fa5665",
   "metadata": {
    "ExecuteTime": {
     "end_time": "2025-10-28T12:34:03.271918Z",
     "start_time": "2025-10-28T12:34:03.265518Z"
    }
   },
   "source": [
    "from logging import exception\n",
    "\n",
    "import pandas as pd\n"
   ],
   "outputs": [],
   "execution_count": 2
  },
  {
   "cell_type": "code",
   "id": "c141095526d781ca",
   "metadata": {
    "ExecuteTime": {
     "end_time": "2025-10-28T12:34:03.447095Z",
     "start_time": "2025-10-28T12:34:03.372248Z"
    }
   },
   "source": [
    "df = pd.read_csv(\"customer_shopping_behavior.csv\")\n",
    "\n",
    "df.head(6)"
   ],
   "outputs": [
    {
     "data": {
      "text/plain": [
       "   Customer ID  Age Gender Item Purchased  Category  Purchase Amount (USD)  \\\n",
       "0            1   55   Male         Blouse  Clothing                     53   \n",
       "1            2   19   Male        Sweater  Clothing                     64   \n",
       "2            3   50   Male          Jeans  Clothing                     73   \n",
       "3            4   21   Male        Sandals  Footwear                     90   \n",
       "4            5   45   Male         Blouse  Clothing                     49   \n",
       "5            6   46   Male       Sneakers  Footwear                     20   \n",
       "\n",
       "        Location Size      Color  Season  Review Rating Subscription Status  \\\n",
       "0       Kentucky    L       Gray  Winter            3.1                 Yes   \n",
       "1          Maine    L     Maroon  Winter            3.1                 Yes   \n",
       "2  Massachusetts    S     Maroon  Spring            3.1                 Yes   \n",
       "3   Rhode Island    M     Maroon  Spring            3.5                 Yes   \n",
       "4         Oregon    M  Turquoise  Spring            2.7                 Yes   \n",
       "5        Wyoming    M      White  Summer            2.9                 Yes   \n",
       "\n",
       "   Shipping Type Discount Applied Promo Code Used  Previous Purchases  \\\n",
       "0        Express              Yes             Yes                  14   \n",
       "1        Express              Yes             Yes                   2   \n",
       "2  Free Shipping              Yes             Yes                  23   \n",
       "3   Next Day Air              Yes             Yes                  49   \n",
       "4  Free Shipping              Yes             Yes                  31   \n",
       "5       Standard              Yes             Yes                  14   \n",
       "\n",
       "  Payment Method Frequency of Purchases  \n",
       "0          Venmo            Fortnightly  \n",
       "1           Cash            Fortnightly  \n",
       "2    Credit Card                 Weekly  \n",
       "3         PayPal                 Weekly  \n",
       "4         PayPal               Annually  \n",
       "5          Venmo                 Weekly  "
      ],
      "text/html": [
       "<div>\n",
       "<style scoped>\n",
       "    .dataframe tbody tr th:only-of-type {\n",
       "        vertical-align: middle;\n",
       "    }\n",
       "\n",
       "    .dataframe tbody tr th {\n",
       "        vertical-align: top;\n",
       "    }\n",
       "\n",
       "    .dataframe thead th {\n",
       "        text-align: right;\n",
       "    }\n",
       "</style>\n",
       "<table border=\"1\" class=\"dataframe\">\n",
       "  <thead>\n",
       "    <tr style=\"text-align: right;\">\n",
       "      <th></th>\n",
       "      <th>Customer ID</th>\n",
       "      <th>Age</th>\n",
       "      <th>Gender</th>\n",
       "      <th>Item Purchased</th>\n",
       "      <th>Category</th>\n",
       "      <th>Purchase Amount (USD)</th>\n",
       "      <th>Location</th>\n",
       "      <th>Size</th>\n",
       "      <th>Color</th>\n",
       "      <th>Season</th>\n",
       "      <th>Review Rating</th>\n",
       "      <th>Subscription Status</th>\n",
       "      <th>Shipping Type</th>\n",
       "      <th>Discount Applied</th>\n",
       "      <th>Promo Code Used</th>\n",
       "      <th>Previous Purchases</th>\n",
       "      <th>Payment Method</th>\n",
       "      <th>Frequency of Purchases</th>\n",
       "    </tr>\n",
       "  </thead>\n",
       "  <tbody>\n",
       "    <tr>\n",
       "      <th>0</th>\n",
       "      <td>1</td>\n",
       "      <td>55</td>\n",
       "      <td>Male</td>\n",
       "      <td>Blouse</td>\n",
       "      <td>Clothing</td>\n",
       "      <td>53</td>\n",
       "      <td>Kentucky</td>\n",
       "      <td>L</td>\n",
       "      <td>Gray</td>\n",
       "      <td>Winter</td>\n",
       "      <td>3.1</td>\n",
       "      <td>Yes</td>\n",
       "      <td>Express</td>\n",
       "      <td>Yes</td>\n",
       "      <td>Yes</td>\n",
       "      <td>14</td>\n",
       "      <td>Venmo</td>\n",
       "      <td>Fortnightly</td>\n",
       "    </tr>\n",
       "    <tr>\n",
       "      <th>1</th>\n",
       "      <td>2</td>\n",
       "      <td>19</td>\n",
       "      <td>Male</td>\n",
       "      <td>Sweater</td>\n",
       "      <td>Clothing</td>\n",
       "      <td>64</td>\n",
       "      <td>Maine</td>\n",
       "      <td>L</td>\n",
       "      <td>Maroon</td>\n",
       "      <td>Winter</td>\n",
       "      <td>3.1</td>\n",
       "      <td>Yes</td>\n",
       "      <td>Express</td>\n",
       "      <td>Yes</td>\n",
       "      <td>Yes</td>\n",
       "      <td>2</td>\n",
       "      <td>Cash</td>\n",
       "      <td>Fortnightly</td>\n",
       "    </tr>\n",
       "    <tr>\n",
       "      <th>2</th>\n",
       "      <td>3</td>\n",
       "      <td>50</td>\n",
       "      <td>Male</td>\n",
       "      <td>Jeans</td>\n",
       "      <td>Clothing</td>\n",
       "      <td>73</td>\n",
       "      <td>Massachusetts</td>\n",
       "      <td>S</td>\n",
       "      <td>Maroon</td>\n",
       "      <td>Spring</td>\n",
       "      <td>3.1</td>\n",
       "      <td>Yes</td>\n",
       "      <td>Free Shipping</td>\n",
       "      <td>Yes</td>\n",
       "      <td>Yes</td>\n",
       "      <td>23</td>\n",
       "      <td>Credit Card</td>\n",
       "      <td>Weekly</td>\n",
       "    </tr>\n",
       "    <tr>\n",
       "      <th>3</th>\n",
       "      <td>4</td>\n",
       "      <td>21</td>\n",
       "      <td>Male</td>\n",
       "      <td>Sandals</td>\n",
       "      <td>Footwear</td>\n",
       "      <td>90</td>\n",
       "      <td>Rhode Island</td>\n",
       "      <td>M</td>\n",
       "      <td>Maroon</td>\n",
       "      <td>Spring</td>\n",
       "      <td>3.5</td>\n",
       "      <td>Yes</td>\n",
       "      <td>Next Day Air</td>\n",
       "      <td>Yes</td>\n",
       "      <td>Yes</td>\n",
       "      <td>49</td>\n",
       "      <td>PayPal</td>\n",
       "      <td>Weekly</td>\n",
       "    </tr>\n",
       "    <tr>\n",
       "      <th>4</th>\n",
       "      <td>5</td>\n",
       "      <td>45</td>\n",
       "      <td>Male</td>\n",
       "      <td>Blouse</td>\n",
       "      <td>Clothing</td>\n",
       "      <td>49</td>\n",
       "      <td>Oregon</td>\n",
       "      <td>M</td>\n",
       "      <td>Turquoise</td>\n",
       "      <td>Spring</td>\n",
       "      <td>2.7</td>\n",
       "      <td>Yes</td>\n",
       "      <td>Free Shipping</td>\n",
       "      <td>Yes</td>\n",
       "      <td>Yes</td>\n",
       "      <td>31</td>\n",
       "      <td>PayPal</td>\n",
       "      <td>Annually</td>\n",
       "    </tr>\n",
       "    <tr>\n",
       "      <th>5</th>\n",
       "      <td>6</td>\n",
       "      <td>46</td>\n",
       "      <td>Male</td>\n",
       "      <td>Sneakers</td>\n",
       "      <td>Footwear</td>\n",
       "      <td>20</td>\n",
       "      <td>Wyoming</td>\n",
       "      <td>M</td>\n",
       "      <td>White</td>\n",
       "      <td>Summer</td>\n",
       "      <td>2.9</td>\n",
       "      <td>Yes</td>\n",
       "      <td>Standard</td>\n",
       "      <td>Yes</td>\n",
       "      <td>Yes</td>\n",
       "      <td>14</td>\n",
       "      <td>Venmo</td>\n",
       "      <td>Weekly</td>\n",
       "    </tr>\n",
       "  </tbody>\n",
       "</table>\n",
       "</div>"
      ]
     },
     "execution_count": 3,
     "metadata": {},
     "output_type": "execute_result"
    }
   ],
   "execution_count": 3
  },
  {
   "cell_type": "code",
   "id": "c2063497bff7d02c",
   "metadata": {
    "ExecuteTime": {
     "end_time": "2025-10-28T12:34:03.564115Z",
     "start_time": "2025-10-28T12:34:03.534027Z"
    }
   },
   "source": [
    "df.info()\n"
   ],
   "outputs": [
    {
     "name": "stdout",
     "output_type": "stream",
     "text": [
      "<class 'pandas.core.frame.DataFrame'>\n",
      "RangeIndex: 3900 entries, 0 to 3899\n",
      "Data columns (total 18 columns):\n",
      " #   Column                  Non-Null Count  Dtype  \n",
      "---  ------                  --------------  -----  \n",
      " 0   Customer ID             3900 non-null   int64  \n",
      " 1   Age                     3900 non-null   int64  \n",
      " 2   Gender                  3900 non-null   object \n",
      " 3   Item Purchased          3900 non-null   object \n",
      " 4   Category                3900 non-null   object \n",
      " 5   Purchase Amount (USD)   3900 non-null   int64  \n",
      " 6   Location                3900 non-null   object \n",
      " 7   Size                    3900 non-null   object \n",
      " 8   Color                   3900 non-null   object \n",
      " 9   Season                  3900 non-null   object \n",
      " 10  Review Rating           3863 non-null   float64\n",
      " 11  Subscription Status     3900 non-null   object \n",
      " 12  Shipping Type           3900 non-null   object \n",
      " 13  Discount Applied        3900 non-null   object \n",
      " 14  Promo Code Used         3900 non-null   object \n",
      " 15  Previous Purchases      3900 non-null   int64  \n",
      " 16  Payment Method          3900 non-null   object \n",
      " 17  Frequency of Purchases  3900 non-null   object \n",
      "dtypes: float64(1), int64(4), object(13)\n",
      "memory usage: 548.6+ KB\n"
     ]
    }
   ],
   "execution_count": 4
  },
  {
   "cell_type": "code",
   "id": "ea76363557643e59",
   "metadata": {
    "ExecuteTime": {
     "end_time": "2025-10-28T12:34:03.909207Z",
     "start_time": "2025-10-28T12:34:03.811552Z"
    }
   },
   "source": [
    "\n",
    "df.describe(include=\"all\")\n"
   ],
   "outputs": [
    {
     "data": {
      "text/plain": [
       "        Customer ID          Age Gender Item Purchased  Category  \\\n",
       "count   3900.000000  3900.000000   3900           3900      3900   \n",
       "unique          NaN          NaN      2             25         4   \n",
       "top             NaN          NaN   Male         Blouse  Clothing   \n",
       "freq            NaN          NaN   2652            171      1737   \n",
       "mean    1950.500000    44.068462    NaN            NaN       NaN   \n",
       "std     1125.977353    15.207589    NaN            NaN       NaN   \n",
       "min        1.000000    18.000000    NaN            NaN       NaN   \n",
       "25%      975.750000    31.000000    NaN            NaN       NaN   \n",
       "50%     1950.500000    44.000000    NaN            NaN       NaN   \n",
       "75%     2925.250000    57.000000    NaN            NaN       NaN   \n",
       "max     3900.000000    70.000000    NaN            NaN       NaN   \n",
       "\n",
       "        Purchase Amount (USD) Location  Size  Color  Season  Review Rating  \\\n",
       "count             3900.000000     3900  3900   3900    3900    3863.000000   \n",
       "unique                    NaN       50     4     25       4            NaN   \n",
       "top                       NaN  Montana     M  Olive  Spring            NaN   \n",
       "freq                      NaN       96  1755    177     999            NaN   \n",
       "mean                59.764359      NaN   NaN    NaN     NaN       3.750065   \n",
       "std                 23.685392      NaN   NaN    NaN     NaN       0.716983   \n",
       "min                 20.000000      NaN   NaN    NaN     NaN       2.500000   \n",
       "25%                 39.000000      NaN   NaN    NaN     NaN       3.100000   \n",
       "50%                 60.000000      NaN   NaN    NaN     NaN       3.800000   \n",
       "75%                 81.000000      NaN   NaN    NaN     NaN       4.400000   \n",
       "max                100.000000      NaN   NaN    NaN     NaN       5.000000   \n",
       "\n",
       "       Subscription Status  Shipping Type Discount Applied Promo Code Used  \\\n",
       "count                 3900           3900             3900            3900   \n",
       "unique                   2              6                2               2   \n",
       "top                     No  Free Shipping               No              No   \n",
       "freq                  2847            675             2223            2223   \n",
       "mean                   NaN            NaN              NaN             NaN   \n",
       "std                    NaN            NaN              NaN             NaN   \n",
       "min                    NaN            NaN              NaN             NaN   \n",
       "25%                    NaN            NaN              NaN             NaN   \n",
       "50%                    NaN            NaN              NaN             NaN   \n",
       "75%                    NaN            NaN              NaN             NaN   \n",
       "max                    NaN            NaN              NaN             NaN   \n",
       "\n",
       "        Previous Purchases Payment Method Frequency of Purchases  \n",
       "count          3900.000000           3900                   3900  \n",
       "unique                 NaN              6                      7  \n",
       "top                    NaN         PayPal         Every 3 Months  \n",
       "freq                   NaN            677                    584  \n",
       "mean             25.351538            NaN                    NaN  \n",
       "std              14.447125            NaN                    NaN  \n",
       "min               1.000000            NaN                    NaN  \n",
       "25%              13.000000            NaN                    NaN  \n",
       "50%              25.000000            NaN                    NaN  \n",
       "75%              38.000000            NaN                    NaN  \n",
       "max              50.000000            NaN                    NaN  "
      ],
      "text/html": [
       "<div>\n",
       "<style scoped>\n",
       "    .dataframe tbody tr th:only-of-type {\n",
       "        vertical-align: middle;\n",
       "    }\n",
       "\n",
       "    .dataframe tbody tr th {\n",
       "        vertical-align: top;\n",
       "    }\n",
       "\n",
       "    .dataframe thead th {\n",
       "        text-align: right;\n",
       "    }\n",
       "</style>\n",
       "<table border=\"1\" class=\"dataframe\">\n",
       "  <thead>\n",
       "    <tr style=\"text-align: right;\">\n",
       "      <th></th>\n",
       "      <th>Customer ID</th>\n",
       "      <th>Age</th>\n",
       "      <th>Gender</th>\n",
       "      <th>Item Purchased</th>\n",
       "      <th>Category</th>\n",
       "      <th>Purchase Amount (USD)</th>\n",
       "      <th>Location</th>\n",
       "      <th>Size</th>\n",
       "      <th>Color</th>\n",
       "      <th>Season</th>\n",
       "      <th>Review Rating</th>\n",
       "      <th>Subscription Status</th>\n",
       "      <th>Shipping Type</th>\n",
       "      <th>Discount Applied</th>\n",
       "      <th>Promo Code Used</th>\n",
       "      <th>Previous Purchases</th>\n",
       "      <th>Payment Method</th>\n",
       "      <th>Frequency of Purchases</th>\n",
       "    </tr>\n",
       "  </thead>\n",
       "  <tbody>\n",
       "    <tr>\n",
       "      <th>count</th>\n",
       "      <td>3900.000000</td>\n",
       "      <td>3900.000000</td>\n",
       "      <td>3900</td>\n",
       "      <td>3900</td>\n",
       "      <td>3900</td>\n",
       "      <td>3900.000000</td>\n",
       "      <td>3900</td>\n",
       "      <td>3900</td>\n",
       "      <td>3900</td>\n",
       "      <td>3900</td>\n",
       "      <td>3863.000000</td>\n",
       "      <td>3900</td>\n",
       "      <td>3900</td>\n",
       "      <td>3900</td>\n",
       "      <td>3900</td>\n",
       "      <td>3900.000000</td>\n",
       "      <td>3900</td>\n",
       "      <td>3900</td>\n",
       "    </tr>\n",
       "    <tr>\n",
       "      <th>unique</th>\n",
       "      <td>NaN</td>\n",
       "      <td>NaN</td>\n",
       "      <td>2</td>\n",
       "      <td>25</td>\n",
       "      <td>4</td>\n",
       "      <td>NaN</td>\n",
       "      <td>50</td>\n",
       "      <td>4</td>\n",
       "      <td>25</td>\n",
       "      <td>4</td>\n",
       "      <td>NaN</td>\n",
       "      <td>2</td>\n",
       "      <td>6</td>\n",
       "      <td>2</td>\n",
       "      <td>2</td>\n",
       "      <td>NaN</td>\n",
       "      <td>6</td>\n",
       "      <td>7</td>\n",
       "    </tr>\n",
       "    <tr>\n",
       "      <th>top</th>\n",
       "      <td>NaN</td>\n",
       "      <td>NaN</td>\n",
       "      <td>Male</td>\n",
       "      <td>Blouse</td>\n",
       "      <td>Clothing</td>\n",
       "      <td>NaN</td>\n",
       "      <td>Montana</td>\n",
       "      <td>M</td>\n",
       "      <td>Olive</td>\n",
       "      <td>Spring</td>\n",
       "      <td>NaN</td>\n",
       "      <td>No</td>\n",
       "      <td>Free Shipping</td>\n",
       "      <td>No</td>\n",
       "      <td>No</td>\n",
       "      <td>NaN</td>\n",
       "      <td>PayPal</td>\n",
       "      <td>Every 3 Months</td>\n",
       "    </tr>\n",
       "    <tr>\n",
       "      <th>freq</th>\n",
       "      <td>NaN</td>\n",
       "      <td>NaN</td>\n",
       "      <td>2652</td>\n",
       "      <td>171</td>\n",
       "      <td>1737</td>\n",
       "      <td>NaN</td>\n",
       "      <td>96</td>\n",
       "      <td>1755</td>\n",
       "      <td>177</td>\n",
       "      <td>999</td>\n",
       "      <td>NaN</td>\n",
       "      <td>2847</td>\n",
       "      <td>675</td>\n",
       "      <td>2223</td>\n",
       "      <td>2223</td>\n",
       "      <td>NaN</td>\n",
       "      <td>677</td>\n",
       "      <td>584</td>\n",
       "    </tr>\n",
       "    <tr>\n",
       "      <th>mean</th>\n",
       "      <td>1950.500000</td>\n",
       "      <td>44.068462</td>\n",
       "      <td>NaN</td>\n",
       "      <td>NaN</td>\n",
       "      <td>NaN</td>\n",
       "      <td>59.764359</td>\n",
       "      <td>NaN</td>\n",
       "      <td>NaN</td>\n",
       "      <td>NaN</td>\n",
       "      <td>NaN</td>\n",
       "      <td>3.750065</td>\n",
       "      <td>NaN</td>\n",
       "      <td>NaN</td>\n",
       "      <td>NaN</td>\n",
       "      <td>NaN</td>\n",
       "      <td>25.351538</td>\n",
       "      <td>NaN</td>\n",
       "      <td>NaN</td>\n",
       "    </tr>\n",
       "    <tr>\n",
       "      <th>std</th>\n",
       "      <td>1125.977353</td>\n",
       "      <td>15.207589</td>\n",
       "      <td>NaN</td>\n",
       "      <td>NaN</td>\n",
       "      <td>NaN</td>\n",
       "      <td>23.685392</td>\n",
       "      <td>NaN</td>\n",
       "      <td>NaN</td>\n",
       "      <td>NaN</td>\n",
       "      <td>NaN</td>\n",
       "      <td>0.716983</td>\n",
       "      <td>NaN</td>\n",
       "      <td>NaN</td>\n",
       "      <td>NaN</td>\n",
       "      <td>NaN</td>\n",
       "      <td>14.447125</td>\n",
       "      <td>NaN</td>\n",
       "      <td>NaN</td>\n",
       "    </tr>\n",
       "    <tr>\n",
       "      <th>min</th>\n",
       "      <td>1.000000</td>\n",
       "      <td>18.000000</td>\n",
       "      <td>NaN</td>\n",
       "      <td>NaN</td>\n",
       "      <td>NaN</td>\n",
       "      <td>20.000000</td>\n",
       "      <td>NaN</td>\n",
       "      <td>NaN</td>\n",
       "      <td>NaN</td>\n",
       "      <td>NaN</td>\n",
       "      <td>2.500000</td>\n",
       "      <td>NaN</td>\n",
       "      <td>NaN</td>\n",
       "      <td>NaN</td>\n",
       "      <td>NaN</td>\n",
       "      <td>1.000000</td>\n",
       "      <td>NaN</td>\n",
       "      <td>NaN</td>\n",
       "    </tr>\n",
       "    <tr>\n",
       "      <th>25%</th>\n",
       "      <td>975.750000</td>\n",
       "      <td>31.000000</td>\n",
       "      <td>NaN</td>\n",
       "      <td>NaN</td>\n",
       "      <td>NaN</td>\n",
       "      <td>39.000000</td>\n",
       "      <td>NaN</td>\n",
       "      <td>NaN</td>\n",
       "      <td>NaN</td>\n",
       "      <td>NaN</td>\n",
       "      <td>3.100000</td>\n",
       "      <td>NaN</td>\n",
       "      <td>NaN</td>\n",
       "      <td>NaN</td>\n",
       "      <td>NaN</td>\n",
       "      <td>13.000000</td>\n",
       "      <td>NaN</td>\n",
       "      <td>NaN</td>\n",
       "    </tr>\n",
       "    <tr>\n",
       "      <th>50%</th>\n",
       "      <td>1950.500000</td>\n",
       "      <td>44.000000</td>\n",
       "      <td>NaN</td>\n",
       "      <td>NaN</td>\n",
       "      <td>NaN</td>\n",
       "      <td>60.000000</td>\n",
       "      <td>NaN</td>\n",
       "      <td>NaN</td>\n",
       "      <td>NaN</td>\n",
       "      <td>NaN</td>\n",
       "      <td>3.800000</td>\n",
       "      <td>NaN</td>\n",
       "      <td>NaN</td>\n",
       "      <td>NaN</td>\n",
       "      <td>NaN</td>\n",
       "      <td>25.000000</td>\n",
       "      <td>NaN</td>\n",
       "      <td>NaN</td>\n",
       "    </tr>\n",
       "    <tr>\n",
       "      <th>75%</th>\n",
       "      <td>2925.250000</td>\n",
       "      <td>57.000000</td>\n",
       "      <td>NaN</td>\n",
       "      <td>NaN</td>\n",
       "      <td>NaN</td>\n",
       "      <td>81.000000</td>\n",
       "      <td>NaN</td>\n",
       "      <td>NaN</td>\n",
       "      <td>NaN</td>\n",
       "      <td>NaN</td>\n",
       "      <td>4.400000</td>\n",
       "      <td>NaN</td>\n",
       "      <td>NaN</td>\n",
       "      <td>NaN</td>\n",
       "      <td>NaN</td>\n",
       "      <td>38.000000</td>\n",
       "      <td>NaN</td>\n",
       "      <td>NaN</td>\n",
       "    </tr>\n",
       "    <tr>\n",
       "      <th>max</th>\n",
       "      <td>3900.000000</td>\n",
       "      <td>70.000000</td>\n",
       "      <td>NaN</td>\n",
       "      <td>NaN</td>\n",
       "      <td>NaN</td>\n",
       "      <td>100.000000</td>\n",
       "      <td>NaN</td>\n",
       "      <td>NaN</td>\n",
       "      <td>NaN</td>\n",
       "      <td>NaN</td>\n",
       "      <td>5.000000</td>\n",
       "      <td>NaN</td>\n",
       "      <td>NaN</td>\n",
       "      <td>NaN</td>\n",
       "      <td>NaN</td>\n",
       "      <td>50.000000</td>\n",
       "      <td>NaN</td>\n",
       "      <td>NaN</td>\n",
       "    </tr>\n",
       "  </tbody>\n",
       "</table>\n",
       "</div>"
      ]
     },
     "execution_count": 5,
     "metadata": {},
     "output_type": "execute_result"
    }
   ],
   "execution_count": 5
  },
  {
   "cell_type": "code",
   "id": "dfe3590aa8818207",
   "metadata": {
    "ExecuteTime": {
     "end_time": "2025-10-28T12:34:04.020412Z",
     "start_time": "2025-10-28T12:34:04.002289Z"
    }
   },
   "source": [
    "df.isnull().sum()"
   ],
   "outputs": [
    {
     "data": {
      "text/plain": [
       "Customer ID                0\n",
       "Age                        0\n",
       "Gender                     0\n",
       "Item Purchased             0\n",
       "Category                   0\n",
       "Purchase Amount (USD)      0\n",
       "Location                   0\n",
       "Size                       0\n",
       "Color                      0\n",
       "Season                     0\n",
       "Review Rating             37\n",
       "Subscription Status        0\n",
       "Shipping Type              0\n",
       "Discount Applied           0\n",
       "Promo Code Used            0\n",
       "Previous Purchases         0\n",
       "Payment Method             0\n",
       "Frequency of Purchases     0\n",
       "dtype: int64"
      ]
     },
     "execution_count": 6,
     "metadata": {},
     "output_type": "execute_result"
    }
   ],
   "execution_count": 6
  },
  {
   "cell_type": "code",
   "id": "9c1a7c9d1053ed92",
   "metadata": {
    "ExecuteTime": {
     "end_time": "2025-10-28T12:34:04.135887Z",
     "start_time": "2025-10-28T12:34:04.119902Z"
    }
   },
   "source": [
    "df[\"Review Rating\"] = df.groupby(\"Category\")[\"Review Rating\"].transform(lambda x: x.fillna(x.median()))\n"
   ],
   "outputs": [],
   "execution_count": 7
  },
  {
   "cell_type": "code",
   "id": "6c58c433f4fe8a8f",
   "metadata": {
    "ExecuteTime": {
     "end_time": "2025-10-28T12:34:04.179035Z",
     "start_time": "2025-10-28T12:34:04.163557Z"
    }
   },
   "source": [
    "df.isnull().sum()\n"
   ],
   "outputs": [
    {
     "data": {
      "text/plain": [
       "Customer ID               0\n",
       "Age                       0\n",
       "Gender                    0\n",
       "Item Purchased            0\n",
       "Category                  0\n",
       "Purchase Amount (USD)     0\n",
       "Location                  0\n",
       "Size                      0\n",
       "Color                     0\n",
       "Season                    0\n",
       "Review Rating             0\n",
       "Subscription Status       0\n",
       "Shipping Type             0\n",
       "Discount Applied          0\n",
       "Promo Code Used           0\n",
       "Previous Purchases        0\n",
       "Payment Method            0\n",
       "Frequency of Purchases    0\n",
       "dtype: int64"
      ]
     },
     "execution_count": 8,
     "metadata": {},
     "output_type": "execute_result"
    }
   ],
   "execution_count": 8
  },
  {
   "cell_type": "code",
   "id": "69898f999eede952",
   "metadata": {
    "ExecuteTime": {
     "end_time": "2025-10-28T12:34:04.321476Z",
     "start_time": "2025-10-28T12:34:04.313017Z"
    }
   },
   "source": [
    "df.columns = df.columns.str.lower()\n",
    "df.columns = df.columns.str.replace(\" \",\"_\")\n",
    "df = df.rename(columns={\"purchase_amount_(usd)\":\"purchase_amount\"})"
   ],
   "outputs": [],
   "execution_count": 9
  },
  {
   "cell_type": "code",
   "id": "3955a54bdd315404",
   "metadata": {
    "ExecuteTime": {
     "end_time": "2025-10-28T12:34:04.411305Z",
     "start_time": "2025-10-28T12:34:04.401163Z"
    }
   },
   "source": [
    "df.columns"
   ],
   "outputs": [
    {
     "data": {
      "text/plain": [
       "Index(['customer_id', 'age', 'gender', 'item_purchased', 'category',\n",
       "       'purchase_amount', 'location', 'size', 'color', 'season',\n",
       "       'review_rating', 'subscription_status', 'shipping_type',\n",
       "       'discount_applied', 'promo_code_used', 'previous_purchases',\n",
       "       'payment_method', 'frequency_of_purchases'],\n",
       "      dtype='object')"
      ]
     },
     "execution_count": 10,
     "metadata": {},
     "output_type": "execute_result"
    }
   ],
   "execution_count": 10
  },
  {
   "cell_type": "code",
   "id": "cefe7aa073f062f3",
   "metadata": {
    "ExecuteTime": {
     "end_time": "2025-10-28T12:34:04.522899Z",
     "start_time": "2025-10-28T12:34:04.501393Z"
    }
   },
   "source": [
    "\n",
    "#create a columns\n",
    "labels = [\"Young Adult\",\"Adult\",\"Middle-aged\",\"Senior\"]\n",
    "df[\"age_group\"] = pd.qcut(df[\"age\"],q=4,labels = labels)\n",
    "\n",
    "df[[\"age\",\"age_group\"]].head(15)"
   ],
   "outputs": [
    {
     "data": {
      "text/plain": [
       "    age    age_group\n",
       "0    55  Middle-aged\n",
       "1    19  Young Adult\n",
       "2    50  Middle-aged\n",
       "3    21  Young Adult\n",
       "4    45  Middle-aged\n",
       "5    46  Middle-aged\n",
       "6    63       Senior\n",
       "7    27  Young Adult\n",
       "8    26  Young Adult\n",
       "9    57  Middle-aged\n",
       "10   53  Middle-aged\n",
       "11   30  Young Adult\n",
       "12   61       Senior\n",
       "13   65       Senior\n",
       "14   64       Senior"
      ],
      "text/html": [
       "<div>\n",
       "<style scoped>\n",
       "    .dataframe tbody tr th:only-of-type {\n",
       "        vertical-align: middle;\n",
       "    }\n",
       "\n",
       "    .dataframe tbody tr th {\n",
       "        vertical-align: top;\n",
       "    }\n",
       "\n",
       "    .dataframe thead th {\n",
       "        text-align: right;\n",
       "    }\n",
       "</style>\n",
       "<table border=\"1\" class=\"dataframe\">\n",
       "  <thead>\n",
       "    <tr style=\"text-align: right;\">\n",
       "      <th></th>\n",
       "      <th>age</th>\n",
       "      <th>age_group</th>\n",
       "    </tr>\n",
       "  </thead>\n",
       "  <tbody>\n",
       "    <tr>\n",
       "      <th>0</th>\n",
       "      <td>55</td>\n",
       "      <td>Middle-aged</td>\n",
       "    </tr>\n",
       "    <tr>\n",
       "      <th>1</th>\n",
       "      <td>19</td>\n",
       "      <td>Young Adult</td>\n",
       "    </tr>\n",
       "    <tr>\n",
       "      <th>2</th>\n",
       "      <td>50</td>\n",
       "      <td>Middle-aged</td>\n",
       "    </tr>\n",
       "    <tr>\n",
       "      <th>3</th>\n",
       "      <td>21</td>\n",
       "      <td>Young Adult</td>\n",
       "    </tr>\n",
       "    <tr>\n",
       "      <th>4</th>\n",
       "      <td>45</td>\n",
       "      <td>Middle-aged</td>\n",
       "    </tr>\n",
       "    <tr>\n",
       "      <th>5</th>\n",
       "      <td>46</td>\n",
       "      <td>Middle-aged</td>\n",
       "    </tr>\n",
       "    <tr>\n",
       "      <th>6</th>\n",
       "      <td>63</td>\n",
       "      <td>Senior</td>\n",
       "    </tr>\n",
       "    <tr>\n",
       "      <th>7</th>\n",
       "      <td>27</td>\n",
       "      <td>Young Adult</td>\n",
       "    </tr>\n",
       "    <tr>\n",
       "      <th>8</th>\n",
       "      <td>26</td>\n",
       "      <td>Young Adult</td>\n",
       "    </tr>\n",
       "    <tr>\n",
       "      <th>9</th>\n",
       "      <td>57</td>\n",
       "      <td>Middle-aged</td>\n",
       "    </tr>\n",
       "    <tr>\n",
       "      <th>10</th>\n",
       "      <td>53</td>\n",
       "      <td>Middle-aged</td>\n",
       "    </tr>\n",
       "    <tr>\n",
       "      <th>11</th>\n",
       "      <td>30</td>\n",
       "      <td>Young Adult</td>\n",
       "    </tr>\n",
       "    <tr>\n",
       "      <th>12</th>\n",
       "      <td>61</td>\n",
       "      <td>Senior</td>\n",
       "    </tr>\n",
       "    <tr>\n",
       "      <th>13</th>\n",
       "      <td>65</td>\n",
       "      <td>Senior</td>\n",
       "    </tr>\n",
       "    <tr>\n",
       "      <th>14</th>\n",
       "      <td>64</td>\n",
       "      <td>Senior</td>\n",
       "    </tr>\n",
       "  </tbody>\n",
       "</table>\n",
       "</div>"
      ]
     },
     "execution_count": 11,
     "metadata": {},
     "output_type": "execute_result"
    }
   ],
   "execution_count": 11
  },
  {
   "cell_type": "code",
   "id": "cef4341185c003e4",
   "metadata": {
    "ExecuteTime": {
     "end_time": "2025-10-28T12:34:04.611367Z",
     "start_time": "2025-10-28T12:34:04.603243Z"
    }
   },
   "source": [
    "#create a columns\n",
    "frequency_mapping = {\n",
    "    'Fortnightly':14,\n",
    "    'Weekly':7,\n",
    "    'Monthly':30,\n",
    "    'Quarterly':90,\n",
    "    'Bi-Weekly':14,\n",
    "    'Annually':365,\n",
    "    'Every 3 Months':90\n",
    "}\n",
    "df['purchase_frequency_days'] = df['frequency_of_purchases'].map(frequency_mapping)"
   ],
   "outputs": [],
   "execution_count": 12
  },
  {
   "cell_type": "code",
   "id": "14697e336f34ad86",
   "metadata": {
    "ExecuteTime": {
     "end_time": "2025-10-28T12:34:04.644222Z",
     "start_time": "2025-10-28T12:34:04.628262Z"
    }
   },
   "source": [
    "df[['purchase_frequency_days','frequency_of_purchases']].head(15)"
   ],
   "outputs": [
    {
     "data": {
      "text/plain": [
       "    purchase_frequency_days frequency_of_purchases\n",
       "0                        14            Fortnightly\n",
       "1                        14            Fortnightly\n",
       "2                         7                 Weekly\n",
       "3                         7                 Weekly\n",
       "4                       365               Annually\n",
       "5                         7                 Weekly\n",
       "6                        90              Quarterly\n",
       "7                         7                 Weekly\n",
       "8                       365               Annually\n",
       "9                        90              Quarterly\n",
       "10                       14              Bi-Weekly\n",
       "11                       14            Fortnightly\n",
       "12                       14            Fortnightly\n",
       "13                        7                 Weekly\n",
       "14                        7                 Weekly"
      ],
      "text/html": [
       "<div>\n",
       "<style scoped>\n",
       "    .dataframe tbody tr th:only-of-type {\n",
       "        vertical-align: middle;\n",
       "    }\n",
       "\n",
       "    .dataframe tbody tr th {\n",
       "        vertical-align: top;\n",
       "    }\n",
       "\n",
       "    .dataframe thead th {\n",
       "        text-align: right;\n",
       "    }\n",
       "</style>\n",
       "<table border=\"1\" class=\"dataframe\">\n",
       "  <thead>\n",
       "    <tr style=\"text-align: right;\">\n",
       "      <th></th>\n",
       "      <th>purchase_frequency_days</th>\n",
       "      <th>frequency_of_purchases</th>\n",
       "    </tr>\n",
       "  </thead>\n",
       "  <tbody>\n",
       "    <tr>\n",
       "      <th>0</th>\n",
       "      <td>14</td>\n",
       "      <td>Fortnightly</td>\n",
       "    </tr>\n",
       "    <tr>\n",
       "      <th>1</th>\n",
       "      <td>14</td>\n",
       "      <td>Fortnightly</td>\n",
       "    </tr>\n",
       "    <tr>\n",
       "      <th>2</th>\n",
       "      <td>7</td>\n",
       "      <td>Weekly</td>\n",
       "    </tr>\n",
       "    <tr>\n",
       "      <th>3</th>\n",
       "      <td>7</td>\n",
       "      <td>Weekly</td>\n",
       "    </tr>\n",
       "    <tr>\n",
       "      <th>4</th>\n",
       "      <td>365</td>\n",
       "      <td>Annually</td>\n",
       "    </tr>\n",
       "    <tr>\n",
       "      <th>5</th>\n",
       "      <td>7</td>\n",
       "      <td>Weekly</td>\n",
       "    </tr>\n",
       "    <tr>\n",
       "      <th>6</th>\n",
       "      <td>90</td>\n",
       "      <td>Quarterly</td>\n",
       "    </tr>\n",
       "    <tr>\n",
       "      <th>7</th>\n",
       "      <td>7</td>\n",
       "      <td>Weekly</td>\n",
       "    </tr>\n",
       "    <tr>\n",
       "      <th>8</th>\n",
       "      <td>365</td>\n",
       "      <td>Annually</td>\n",
       "    </tr>\n",
       "    <tr>\n",
       "      <th>9</th>\n",
       "      <td>90</td>\n",
       "      <td>Quarterly</td>\n",
       "    </tr>\n",
       "    <tr>\n",
       "      <th>10</th>\n",
       "      <td>14</td>\n",
       "      <td>Bi-Weekly</td>\n",
       "    </tr>\n",
       "    <tr>\n",
       "      <th>11</th>\n",
       "      <td>14</td>\n",
       "      <td>Fortnightly</td>\n",
       "    </tr>\n",
       "    <tr>\n",
       "      <th>12</th>\n",
       "      <td>14</td>\n",
       "      <td>Fortnightly</td>\n",
       "    </tr>\n",
       "    <tr>\n",
       "      <th>13</th>\n",
       "      <td>7</td>\n",
       "      <td>Weekly</td>\n",
       "    </tr>\n",
       "    <tr>\n",
       "      <th>14</th>\n",
       "      <td>7</td>\n",
       "      <td>Weekly</td>\n",
       "    </tr>\n",
       "  </tbody>\n",
       "</table>\n",
       "</div>"
      ]
     },
     "execution_count": 13,
     "metadata": {},
     "output_type": "execute_result"
    }
   ],
   "execution_count": 13
  },
  {
   "cell_type": "code",
   "id": "3d171141dde5a686",
   "metadata": {
    "ExecuteTime": {
     "end_time": "2025-10-28T12:34:04.710318Z",
     "start_time": "2025-10-28T12:34:04.696660Z"
    }
   },
   "source": [
    "df[ ['discount_applied', 'promo_code_used']].head(10)"
   ],
   "outputs": [
    {
     "data": {
      "text/plain": [
       "  discount_applied promo_code_used\n",
       "0              Yes             Yes\n",
       "1              Yes             Yes\n",
       "2              Yes             Yes\n",
       "3              Yes             Yes\n",
       "4              Yes             Yes\n",
       "5              Yes             Yes\n",
       "6              Yes             Yes\n",
       "7              Yes             Yes\n",
       "8              Yes             Yes\n",
       "9              Yes             Yes"
      ],
      "text/html": [
       "<div>\n",
       "<style scoped>\n",
       "    .dataframe tbody tr th:only-of-type {\n",
       "        vertical-align: middle;\n",
       "    }\n",
       "\n",
       "    .dataframe tbody tr th {\n",
       "        vertical-align: top;\n",
       "    }\n",
       "\n",
       "    .dataframe thead th {\n",
       "        text-align: right;\n",
       "    }\n",
       "</style>\n",
       "<table border=\"1\" class=\"dataframe\">\n",
       "  <thead>\n",
       "    <tr style=\"text-align: right;\">\n",
       "      <th></th>\n",
       "      <th>discount_applied</th>\n",
       "      <th>promo_code_used</th>\n",
       "    </tr>\n",
       "  </thead>\n",
       "  <tbody>\n",
       "    <tr>\n",
       "      <th>0</th>\n",
       "      <td>Yes</td>\n",
       "      <td>Yes</td>\n",
       "    </tr>\n",
       "    <tr>\n",
       "      <th>1</th>\n",
       "      <td>Yes</td>\n",
       "      <td>Yes</td>\n",
       "    </tr>\n",
       "    <tr>\n",
       "      <th>2</th>\n",
       "      <td>Yes</td>\n",
       "      <td>Yes</td>\n",
       "    </tr>\n",
       "    <tr>\n",
       "      <th>3</th>\n",
       "      <td>Yes</td>\n",
       "      <td>Yes</td>\n",
       "    </tr>\n",
       "    <tr>\n",
       "      <th>4</th>\n",
       "      <td>Yes</td>\n",
       "      <td>Yes</td>\n",
       "    </tr>\n",
       "    <tr>\n",
       "      <th>5</th>\n",
       "      <td>Yes</td>\n",
       "      <td>Yes</td>\n",
       "    </tr>\n",
       "    <tr>\n",
       "      <th>6</th>\n",
       "      <td>Yes</td>\n",
       "      <td>Yes</td>\n",
       "    </tr>\n",
       "    <tr>\n",
       "      <th>7</th>\n",
       "      <td>Yes</td>\n",
       "      <td>Yes</td>\n",
       "    </tr>\n",
       "    <tr>\n",
       "      <th>8</th>\n",
       "      <td>Yes</td>\n",
       "      <td>Yes</td>\n",
       "    </tr>\n",
       "    <tr>\n",
       "      <th>9</th>\n",
       "      <td>Yes</td>\n",
       "      <td>Yes</td>\n",
       "    </tr>\n",
       "  </tbody>\n",
       "</table>\n",
       "</div>"
      ]
     },
     "execution_count": 14,
     "metadata": {},
     "output_type": "execute_result"
    }
   ],
   "execution_count": 14
  },
  {
   "cell_type": "code",
   "id": "a98bf5804683c98e",
   "metadata": {
    "ExecuteTime": {
     "end_time": "2025-10-28T12:34:05.347379Z",
     "start_time": "2025-10-28T12:34:05.335580Z"
    }
   },
   "source": [
    "\n",
    "(df['discount_applied'] == df['promo_code_used']).all()\n"
   ],
   "outputs": [
    {
     "data": {
      "text/plain": [
       "np.True_"
      ]
     },
     "execution_count": 15,
     "metadata": {},
     "output_type": "execute_result"
    }
   ],
   "execution_count": 15
  },
  {
   "cell_type": "code",
   "id": "4871fa607a2ddbd3",
   "metadata": {
    "ExecuteTime": {
     "end_time": "2025-10-28T12:34:05.535823Z",
     "start_time": "2025-10-28T12:34:05.526364Z"
    }
   },
   "source": [
    "df= df.drop('promo_code_used',axis=1)"
   ],
   "outputs": [],
   "execution_count": 16
  },
  {
   "cell_type": "code",
   "id": "6675158290fde6e0",
   "metadata": {
    "ExecuteTime": {
     "end_time": "2025-10-28T12:34:05.618876Z",
     "start_time": "2025-10-28T12:34:05.609988Z"
    }
   },
   "source": [
    "df.columns\n"
   ],
   "outputs": [
    {
     "data": {
      "text/plain": [
       "Index(['customer_id', 'age', 'gender', 'item_purchased', 'category',\n",
       "       'purchase_amount', 'location', 'size', 'color', 'season',\n",
       "       'review_rating', 'subscription_status', 'shipping_type',\n",
       "       'discount_applied', 'previous_purchases', 'payment_method',\n",
       "       'frequency_of_purchases', 'age_group', 'purchase_frequency_days'],\n",
       "      dtype='object')"
      ]
     },
     "execution_count": 17,
     "metadata": {},
     "output_type": "execute_result"
    }
   ],
   "execution_count": 17
  },
  {
   "cell_type": "code",
   "id": "481865f7dd994597",
   "metadata": {
    "ExecuteTime": {
     "end_time": "2025-10-28T12:34:09.190317Z",
     "start_time": "2025-10-28T12:34:05.728003Z"
    }
   },
   "source": [
    "!pip install mysql-connector-python\n"
   ],
   "outputs": [
    {
     "name": "stdout",
     "output_type": "stream",
     "text": [
      "Defaulting to user installation because normal site-packages is not writeable\n",
      "Requirement already satisfied: mysql-connector-python in c:\\users\\ejazc\\appdata\\roaming\\python\\python314\\site-packages (9.5.0)\n"
     ]
    }
   ],
   "execution_count": 18
  },
  {
   "cell_type": "code",
   "id": "46149e76c0a9b86e",
   "metadata": {
    "ExecuteTime": {
     "end_time": "2025-10-28T12:34:12.931439Z",
     "start_time": "2025-10-28T12:34:09.215817Z"
    }
   },
   "source": [
    "!pip install --upgrade mysql-connector-python\n"
   ],
   "outputs": [
    {
     "name": "stdout",
     "output_type": "stream",
     "text": [
      "Defaulting to user installation because normal site-packages is not writeable\n",
      "Requirement already satisfied: mysql-connector-python in c:\\users\\ejazc\\appdata\\roaming\\python\\python314\\site-packages (9.5.0)\n"
     ]
    }
   ],
   "execution_count": 19
  },
  {
   "cell_type": "code",
   "id": "d5504e40680868fa",
   "metadata": {
    "ExecuteTime": {
     "end_time": "2025-10-28T12:34:16.254906Z",
     "start_time": "2025-10-28T12:34:12.967188Z"
    }
   },
   "source": [
    "!python -m pip install --upgrade pip\n"
   ],
   "outputs": [
    {
     "name": "stdout",
     "output_type": "stream",
     "text": [
      "Defaulting to user installation because normal site-packages is not writeable\n",
      "Requirement already satisfied: pip in c:\\users\\ejazc\\appdata\\roaming\\python\\python314\\site-packages (25.3)\n"
     ]
    }
   ],
   "execution_count": 20
  },
  {
   "cell_type": "code",
   "id": "9c9a36832d473ff6",
   "metadata": {
    "ExecuteTime": {
     "end_time": "2025-10-28T12:34:16.288609Z",
     "start_time": "2025-10-28T12:34:16.279562Z"
    }
   },
   "source": [
    "df.columns"
   ],
   "outputs": [
    {
     "data": {
      "text/plain": [
       "Index(['customer_id', 'age', 'gender', 'item_purchased', 'category',\n",
       "       'purchase_amount', 'location', 'size', 'color', 'season',\n",
       "       'review_rating', 'subscription_status', 'shipping_type',\n",
       "       'discount_applied', 'previous_purchases', 'payment_method',\n",
       "       'frequency_of_purchases', 'age_group', 'purchase_frequency_days'],\n",
       "      dtype='object')"
      ]
     },
     "execution_count": 21,
     "metadata": {},
     "output_type": "execute_result"
    }
   ],
   "execution_count": 21
  },
  {
   "cell_type": "code",
   "id": "a672b9b5-8b21-4d31-8a3e-9a51b92da868",
   "metadata": {
    "ExecuteTime": {
     "end_time": "2025-10-28T12:34:16.380627Z",
     "start_time": "2025-10-28T12:34:16.371023Z"
    }
   },
   "source": [
    "df.columns"
   ],
   "outputs": [
    {
     "data": {
      "text/plain": [
       "Index(['customer_id', 'age', 'gender', 'item_purchased', 'category',\n",
       "       'purchase_amount', 'location', 'size', 'color', 'season',\n",
       "       'review_rating', 'subscription_status', 'shipping_type',\n",
       "       'discount_applied', 'previous_purchases', 'payment_method',\n",
       "       'frequency_of_purchases', 'age_group', 'purchase_frequency_days'],\n",
       "      dtype='object')"
      ]
     },
     "execution_count": 22,
     "metadata": {},
     "output_type": "execute_result"
    }
   ],
   "execution_count": 22
  },
  {
   "metadata": {
    "ExecuteTime": {
     "end_time": "2025-10-28T12:34:18.824927Z",
     "start_time": "2025-10-28T12:34:16.412315Z"
    }
   },
   "cell_type": "code",
   "source": [
    "!pip install pymysql sqlalchemy\n",
    "\n"
   ],
   "id": "521fc9d3db0dc173",
   "outputs": [
    {
     "name": "stdout",
     "output_type": "stream",
     "text": [
      "Defaulting to user installation because normal site-packages is not writeable\n",
      "Requirement already satisfied: pymysql in c:\\users\\ejazc\\appdata\\roaming\\python\\python314\\site-packages (1.1.2)\n",
      "Requirement already satisfied: sqlalchemy in c:\\users\\ejazc\\appdata\\roaming\\python\\python314\\site-packages (2.0.44)\n",
      "Requirement already satisfied: greenlet>=1 in c:\\users\\ejazc\\appdata\\roaming\\python\\python314\\site-packages (from sqlalchemy) (3.2.4)\n",
      "Requirement already satisfied: typing-extensions>=4.6.0 in c:\\users\\ejazc\\appdata\\roaming\\python\\python314\\site-packages (from sqlalchemy) (4.15.0)\n"
     ]
    }
   ],
   "execution_count": 23
  },
  {
   "metadata": {
    "ExecuteTime": {
     "end_time": "2025-10-28T12:34:19.273023Z",
     "start_time": "2025-10-28T12:34:18.843456Z"
    }
   },
   "cell_type": "code",
   "source": [
    "\n",
    "import urllib.parse\n",
    "from sqlalchemy import create_engine, text\n",
    "\n",
    "import pymysql\n",
    "import pandas as pd\n"
   ],
   "id": "623b59ced629f4a8",
   "outputs": [],
   "execution_count": 24
  },
  {
   "metadata": {
    "ExecuteTime": {
     "end_time": "2025-10-28T12:34:19.309147Z",
     "start_time": "2025-10-28T12:34:19.304169Z"
    }
   },
   "cell_type": "code",
   "source": [
    "PASSWORD = 'Ejaz@chaudhary123'\n",
    "encoded_password = urllib.parse.quote_plus(PASSWORD)\n"
   ],
   "id": "5065c8bc47cf32c0",
   "outputs": [],
   "execution_count": 25
  },
  {
   "metadata": {
    "ExecuteTime": {
     "end_time": "2025-10-28T12:34:19.347270Z",
     "start_time": "2025-10-28T12:34:19.323126Z"
    }
   },
   "cell_type": "code",
   "source": "df = pd.read_csv(\"customer_shopping_behavior.csv\")\n",
   "id": "3bf00309258bd829",
   "outputs": [],
   "execution_count": 26
  },
  {
   "metadata": {
    "ExecuteTime": {
     "end_time": "2025-10-28T12:34:19.366439Z",
     "start_time": "2025-10-28T12:34:19.360296Z"
    }
   },
   "cell_type": "code",
   "source": [
    "USER = 'root'                # MySQL username\n",
    "PASSWORD = urllib.parse.quote_plus('Ejaz@chaudhary123')\n",
    "HOST = '127.0.0.1'           # keep as localhost\n",
    "PORT = '3306'                # default MySQL port\n",
    "DB_NAME = 'customer_behavior'  # name of your database\n"
   ],
   "id": "56083332475b2cac",
   "outputs": [],
   "execution_count": 27
  },
  {
   "metadata": {
    "ExecuteTime": {
     "end_time": "2025-10-28T12:34:19.459676Z",
     "start_time": "2025-10-28T12:34:19.389809Z"
    }
   },
   "cell_type": "code",
   "source": [
    "connection_string = f\"mysql+pymysql://{USER}:{encoded_password}@{HOST}:{PORT}/{DB_NAME}\"\n",
    "engine = create_engine(connection_string)\n",
    "\n",
    "try:\n",
    "    with engine.connect() as conn:\n",
    "        result = conn.execute(text(\"SELECT DATABASE();\"))\n",
    "        print(\"✅ Connected to database:\", result.scalar())\n",
    "except Exception as e:\n",
    "    print(\"❌ Connection failed:\", e)\n"
   ],
   "id": "ea2cfa3ee690d5eb",
   "outputs": [
    {
     "name": "stdout",
     "output_type": "stream",
     "text": [
      "✅ Connected to database: customer_behavior\n"
     ]
    }
   ],
   "execution_count": 28
  },
  {
   "metadata": {
    "ExecuteTime": {
     "end_time": "2025-10-28T12:34:19.966367Z",
     "start_time": "2025-10-28T12:34:19.478344Z"
    }
   },
   "cell_type": "code",
   "source": [
    "df.to_sql('customer_data', con=engine, if_exists='replace', index=False)\n",
    "print(\"✅ Data uploaded successfully to MySQL!\")\n"
   ],
   "id": "4b7275f916296a4",
   "outputs": [
    {
     "name": "stdout",
     "output_type": "stream",
     "text": [
      "✅ Data uploaded successfully to MySQL!\n"
     ]
    }
   ],
   "execution_count": 29
  },
  {
   "metadata": {},
   "cell_type": "code",
   "outputs": [],
   "execution_count": null,
   "source": "",
   "id": "2c65f3b623f9cd8c"
  }
 ],
 "metadata": {
  "kernelspec": {
   "display_name": "Python 3 (ipykernel)",
   "language": "python",
   "name": "python3"
  },
  "language_info": {
   "codemirror_mode": {
    "name": "ipython",
    "version": 3
   },
   "file_extension": ".py",
   "mimetype": "text/x-python",
   "name": "python",
   "nbconvert_exporter": "python",
   "pygments_lexer": "ipython3",
   "version": "3.13.5"
  }
 },
 "nbformat": 4,
 "nbformat_minor": 5
}
